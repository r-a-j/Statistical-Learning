{
 "cells": [
  {
   "cell_type": "code",
   "execution_count": 1,
   "metadata": {},
   "outputs": [],
   "source": [
    "import pandas as pd\n",
    "from sklearn.metrics import classification_report, confusion_matrix"
   ]
  },
  {
   "cell_type": "code",
   "execution_count": 2,
   "metadata": {},
   "outputs": [
    {
     "name": "stdout",
     "output_type": "stream",
     "text": [
      "   0  1\n",
      "0  5  2\n",
      "1  1  4\n",
      "              precision    recall  f1-score   support\n",
      "\n",
      "    Positve       0.714     0.833     0.769         6\n",
      "    Negative      0.800     0.667     0.727         6\n",
      "\n",
      "    accuracy                          0.750        12\n",
      "   macro avg      0.757     0.750     0.748        12\n",
      "weighted avg      0.757     0.750     0.748        12\n",
      "\n"
     ]
    }
   ],
   "source": [
    "y_true = [1,1,1,1,1,1,0,0,0,0,0,0]\n",
    "y_pred = [1,1,0,1,1,0,0,0,1,0,0,0]\n",
    "#Confusion Matrix Table\n",
    "print(pd.DataFrame(confusion_matrix(y_pred,y_true)))\n",
    "target_names = ['Positve ', 'Negative']\n",
    "#Accuracy, Precision, recall and F1-Score\n",
    "print(classification_report(y_true, y_pred, target_names=target_names, digits=3))"
   ]
  }
 ],
 "metadata": {
  "kernelspec": {
   "display_name": "Python 3",
   "language": "python",
   "name": "python3"
  },
  "language_info": {
   "codemirror_mode": {
    "name": "ipython",
    "version": 3
   },
   "file_extension": ".py",
   "mimetype": "text/x-python",
   "name": "python",
   "nbconvert_exporter": "python",
   "pygments_lexer": "ipython3",
   "version": "3.11.1"
  },
  "orig_nbformat": 4,
  "vscode": {
   "interpreter": {
    "hash": "c3de41e2802577959d4c517c88bfb57e77a94dc0aaf8cefd8147d6a3f16d28f9"
   }
  }
 },
 "nbformat": 4,
 "nbformat_minor": 2
}
