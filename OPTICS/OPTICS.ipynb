{
 "cells": [
  {
   "cell_type": "code",
   "execution_count": 1,
   "metadata": {},
   "outputs": [],
   "source": [
    "import pandas as pd\n",
    "from scipy.spatial import distance_matrix\n",
    "from sklearn.cluster import OPTICS"
   ]
  },
  {
   "cell_type": "code",
   "execution_count": 2,
   "metadata": {},
   "outputs": [],
   "source": [
    "def optics(data, que_min_pts, que_eps, p, minpts):\n",
    "    points = []\n",
    "    for i in range(1,len(data)+1,1):\n",
    "        points.append('P' + str(i))\n",
    "    df = pd.DataFrame(data, columns=['xcord', 'ycord'], index=points)\n",
    "    dis_mat = distance_matrix(df.values, df.values, p=p)\n",
    "    final = pd.DataFrame(dis_mat, index=df.index, columns=df.index)\n",
    "    #final = pd.DataFrame(np.tril(df2.values), index=df.index, columns=df.index)\n",
    "    print('The Distance Matrix: \\n')\n",
    "    print(final)\n",
    "    \n",
    "    #arr_max = {}\n",
    "    #for i in final:\n",
    "    #    arr = np.array(final[i])\n",
    "    #    arr1 = np.delete(arr, np.where(arr == 0))\n",
    "    #    arr_max[i] = np.max(np.sort(arr1)[:minpts])\n",
    "    #print('To find the epsilon sorted points with minimum distance of minpts: \\n')\n",
    "    #print(pd.DataFrame(sorted(arr_max.items(), key=lambda x: x[1] , reverse=True)))\n",
    "    \n",
    "    clustering = OPTICS(min_samples=que_min_pts, eps=que_eps, p=p, metric='precomputed').fit(dis_mat)\n",
    "    #clustering.fit(dis_mat)\n",
    "    print('\\n The core distances: \\n')\n",
    "    print(clustering.core_distances_)\n",
    "    print('\\n The reachability distances: \\n')\n",
    "    print(clustering.reachability_)\n",
    "    print('\\n The final clusters: o,s are 1 cluster, 1,s are one cluster, -1,s are noise:  \\n')\n",
    "    print(clustering.labels_)\n",
    "    print('\\n for border points compare the points with the above core and noise points')\n",
    "    return \n",
    "    "
   ]
  },
  {
   "cell_type": "code",
   "execution_count": 3,
   "metadata": {},
   "outputs": [],
   "source": [
    "#Optics Data\n",
    "data1 = [0,1,4,6,7,8,9,11,12,15]\n",
    "\n",
    "# ToDo: modify for 1D array and use DBSCAN function in this repo\n",
    "#DBSCAN(eps = 2.1, min_samples=2).fit(data1)"
   ]
  },
  {
   "cell_type": "code",
   "execution_count": 4,
   "metadata": {},
   "outputs": [],
   "source": [
    "# Create for 1D array\n",
    "#optics(data1, p=1, minpts = 2, que_min_pts = 2, que_eps = 5)"
   ]
  }
 ],
 "metadata": {
  "kernelspec": {
   "display_name": "Python 3",
   "language": "python",
   "name": "python3"
  },
  "language_info": {
   "codemirror_mode": {
    "name": "ipython",
    "version": 3
   },
   "file_extension": ".py",
   "mimetype": "text/x-python",
   "name": "python",
   "nbconvert_exporter": "python",
   "pygments_lexer": "ipython3",
   "version": "3.11.1"
  },
  "orig_nbformat": 4,
  "vscode": {
   "interpreter": {
    "hash": "c3de41e2802577959d4c517c88bfb57e77a94dc0aaf8cefd8147d6a3f16d28f9"
   }
  }
 },
 "nbformat": 4,
 "nbformat_minor": 2
}
