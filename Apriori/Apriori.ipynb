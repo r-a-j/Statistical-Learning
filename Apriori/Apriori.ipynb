{
 "cells": [
  {
   "cell_type": "code",
   "execution_count": 1,
   "metadata": {},
   "outputs": [],
   "source": [
    "import pandas as pd\n",
    "from mlxtend.preprocessing import TransactionEncoder\n",
    "from mlxtend.frequent_patterns import apriori, association_rules"
   ]
  },
  {
   "cell_type": "code",
   "execution_count": 2,
   "metadata": {},
   "outputs": [],
   "source": [
    "def apr(dataset, trans, min_sup, conf):\n",
    "    te = TransactionEncoder()\n",
    "\n",
    "    te_ary = te.fit(dataset).transform(dataset)\n",
    "\n",
    "    df = pd.DataFrame(te_ary, columns=te.columns_)\n",
    "\n",
    "    frequent_itemsets = apriori(df, min_support=min_sup, use_colnames=True)\n",
    "\n",
    "    frequent_itemsets['support'] = frequent_itemsets['support'] * trans\n",
    "    \n",
    "    rules = association_rules(frequent_itemsets, metric=\"confidence\", min_threshold=conf)\n",
    "    \n",
    "    print(frequent_itemsets)\n",
    "    print(rules[['antecedents','consequents','antecedent support', 'consequent support', 'confidence']])"
   ]
  },
  {
   "cell_type": "code",
   "execution_count": 3,
   "metadata": {},
   "outputs": [],
   "source": [
    "a = [['Basil','Pasta'],\n",
    "     ['Basil','Beef','Pasta','Wine'],\n",
    "     ['Beef','Tomato'],\n",
    "     ['Basil','Pasta'],\n",
    "     ['Basil','Beef'],\n",
    "     ['Basil','Beef','Pasta'],\n",
    "     ['Beef','Pasta'],\n",
    "     ['Basil','Beef','Wine']]"
   ]
  },
  {
   "cell_type": "code",
   "execution_count": 4,
   "metadata": {},
   "outputs": [],
   "source": [
    "b = [[1,3,4,6], [2,3,5], [1,2,3,5], [1,5,6]]"
   ]
  },
  {
   "cell_type": "code",
   "execution_count": 5,
   "metadata": {},
   "outputs": [],
   "source": [
    "c = [['A', 'E', 'F'], ['A', 'D', 'E', 'F'], ['A', 'C', 'D', 'E', 'F'],\n",
    "            ['B', 'D', 'E', 'F'],\n",
    "            ['B', 'C', 'D', 'E'],\n",
    "            ['C', 'D', 'E'],\n",
    "            ['C', 'E', 'F'],\n",
    "            ['D', 'E', 'F']]"
   ]
  },
  {
   "cell_type": "code",
   "execution_count": 6,
   "metadata": {},
   "outputs": [],
   "source": [
    "d = [['A','B'],\n",
    "     ['B','C','D'],\n",
    "     ['D','F'],\n",
    "     ['B','D'],\n",
    "     ['B','E'],\n",
    "     ['D','E'],\n",
    "     ['A','B'],\n",
    "     ['A','B'],\n",
    "     ['A','F'],\n",
    "     ['A','B'],\n",
    "     ['A','E','B'],\n",
    "     ['A','E'],\n",
    "     ['A','D','F'],]\n",
    "     "
   ]
  },
  {
   "cell_type": "code",
   "execution_count": 7,
   "metadata": {},
   "outputs": [
    {
     "name": "stdout",
     "output_type": "stream",
     "text": [
      "   support itemsets\n",
      "0      8.0      (A)\n",
      "1      8.0      (B)\n",
      "2      5.0      (D)\n",
      "3      4.0      (E)\n",
      "4      5.0   (B, A)\n",
      "  antecedents consequents  antecedent support  consequent support  confidence\n",
      "0         (B)         (A)                 8.0                 8.0       0.625\n",
      "1         (A)         (B)                 8.0                 8.0       0.625\n"
     ]
    }
   ],
   "source": [
    "apr(d,13,4/13,0.55)"
   ]
  },
  {
   "cell_type": "code",
   "execution_count": 8,
   "metadata": {},
   "outputs": [
    {
     "name": "stdout",
     "output_type": "stream",
     "text": [
      "    support              itemsets\n",
      "0       6.0               (Basil)\n",
      "1       6.0                (Beef)\n",
      "2       5.0               (Pasta)\n",
      "3       2.0                (Wine)\n",
      "4       4.0         (Basil, Beef)\n",
      "5       4.0        (Basil, Pasta)\n",
      "6       2.0         (Basil, Wine)\n",
      "7       3.0         (Beef, Pasta)\n",
      "8       2.0          (Wine, Beef)\n",
      "9       2.0  (Basil, Beef, Pasta)\n",
      "10      2.0   (Basil, Beef, Wine)\n",
      "       antecedents    consequents  antecedent support  consequent support  \\\n",
      "0          (Basil)         (Beef)                 6.0                 6.0   \n",
      "1           (Beef)        (Basil)                 6.0                 6.0   \n",
      "2          (Basil)        (Pasta)                 6.0                 5.0   \n",
      "3          (Pasta)        (Basil)                 5.0                 6.0   \n",
      "4           (Wine)        (Basil)                 2.0                 6.0   \n",
      "5           (Beef)        (Pasta)                 6.0                 5.0   \n",
      "6          (Pasta)         (Beef)                 5.0                 6.0   \n",
      "7           (Wine)         (Beef)                 2.0                 6.0   \n",
      "8    (Basil, Beef)        (Pasta)                 4.0                 5.0   \n",
      "9   (Basil, Pasta)         (Beef)                 4.0                 6.0   \n",
      "10   (Beef, Pasta)        (Basil)                 3.0                 6.0   \n",
      "11   (Basil, Beef)         (Wine)                 4.0                 2.0   \n",
      "12   (Basil, Wine)         (Beef)                 2.0                 6.0   \n",
      "13    (Wine, Beef)        (Basil)                 2.0                 6.0   \n",
      "14          (Wine)  (Basil, Beef)                 2.0                 4.0   \n",
      "\n",
      "    confidence  \n",
      "0     0.666667  \n",
      "1     0.666667  \n",
      "2     0.666667  \n",
      "3     0.800000  \n",
      "4     1.000000  \n",
      "5     0.500000  \n",
      "6     0.600000  \n",
      "7     1.000000  \n",
      "8     0.500000  \n",
      "9     0.500000  \n",
      "10    0.666667  \n",
      "11    0.500000  \n",
      "12    1.000000  \n",
      "13    1.000000  \n",
      "14    1.000000  \n"
     ]
    }
   ],
   "source": [
    "# apr(dataset, no of transactions or rows, (min_supp / no_of_rows), confidence for strong asssociation rules)\n",
    "apr(a, 8, 2/8, 0.5)"
   ]
  },
  {
   "cell_type": "code",
   "execution_count": 9,
   "metadata": {},
   "outputs": [],
   "source": [
    "#trans - no of transactions\n",
    "#apr(c,8,3/8,0.1)"
   ]
  }
 ],
 "metadata": {
  "kernelspec": {
   "display_name": "Python 3",
   "language": "python",
   "name": "python3"
  },
  "language_info": {
   "codemirror_mode": {
    "name": "ipython",
    "version": 3
   },
   "file_extension": ".py",
   "mimetype": "text/x-python",
   "name": "python",
   "nbconvert_exporter": "python",
   "pygments_lexer": "ipython3",
   "version": "3.11.1"
  },
  "orig_nbformat": 4,
  "vscode": {
   "interpreter": {
    "hash": "c3de41e2802577959d4c517c88bfb57e77a94dc0aaf8cefd8147d6a3f16d28f9"
   }
  }
 },
 "nbformat": 4,
 "nbformat_minor": 2
}
