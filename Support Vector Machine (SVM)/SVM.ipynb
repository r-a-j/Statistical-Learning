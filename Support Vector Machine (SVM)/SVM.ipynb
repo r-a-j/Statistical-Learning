{
 "cells": [
  {
   "cell_type": "code",
   "execution_count": 1,
   "metadata": {},
   "outputs": [],
   "source": [
    "import numpy as np"
   ]
  },
  {
   "cell_type": "code",
   "execution_count": 2,
   "metadata": {},
   "outputs": [
    {
     "name": "stdout",
     "output_type": "stream",
     "text": [
      "Weight vector: \n",
      "\n",
      "[[-0.5 -0.5]]\n",
      "\n",
      " Intercept b value: \n",
      "\n",
      "[4.]\n",
      "\n",
      " support vectors: \n",
      "\n",
      "[[5. 5.]\n",
      " [3. 3.]]\n"
     ]
    }
   ],
   "source": [
    "X = np.array([[2, 4], [3, 3], [5, 5], [6, 6]])  # we only take the first two features.\n",
    "y = np.array([1, 1, -1, -1])\n",
    "\n",
    "from sklearn.svm import SVC\n",
    "clf = SVC(kernel='linear')\n",
    "clf.fit(X, y)\n",
    "\n",
    "print('Weight vector: \\n')\n",
    "print(clf.coef_)\n",
    "print('\\n Intercept b value: \\n')\n",
    "print(clf.intercept_)\n",
    "print('\\n support vectors: \\n')\n",
    "print(clf.support_vectors_)"
   ]
  }
 ],
 "metadata": {
  "kernelspec": {
   "display_name": "Python 3",
   "language": "python",
   "name": "python3"
  },
  "language_info": {
   "codemirror_mode": {
    "name": "ipython",
    "version": 3
   },
   "file_extension": ".py",
   "mimetype": "text/x-python",
   "name": "python",
   "nbconvert_exporter": "python",
   "pygments_lexer": "ipython3",
   "version": "3.11.1"
  },
  "orig_nbformat": 4,
  "vscode": {
   "interpreter": {
    "hash": "c3de41e2802577959d4c517c88bfb57e77a94dc0aaf8cefd8147d6a3f16d28f9"
   }
  }
 },
 "nbformat": 4,
 "nbformat_minor": 2
}
