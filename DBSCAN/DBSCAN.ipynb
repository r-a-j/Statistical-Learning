{
 "cells": [
  {
   "cell_type": "code",
   "execution_count": 1,
   "metadata": {},
   "outputs": [],
   "source": [
    "import numpy as np\n",
    "import pandas as pd\n",
    "from scipy.spatial import distance_matrix\n",
    "from sklearn.cluster import DBSCAN"
   ]
  },
  {
   "cell_type": "code",
   "execution_count": 2,
   "metadata": {},
   "outputs": [],
   "source": [
    "#Manhattan distance p=1\n",
    "#Euclidean distance p=2\n",
    "\n",
    "def dbscan(data, que_min_pts, que_eps,minpts, p):\n",
    "    points = []\n",
    "    for i in range(1,len(data)+1,1):\n",
    "        points.append('P' + str(i))\n",
    "    df = pd.DataFrame(data, columns=['xcord', 'ycord'], index=points)\n",
    "    dis_mat = distance_matrix(df.values, df.values, p=p)\n",
    "    final = pd.DataFrame(dis_mat, index=df.index, columns=df.index)\n",
    "    #final = pd.DataFrame(np.tril(df2.values), index=df.index, columns=df.index)\n",
    "    print('The Distance Matrix: \\n')\n",
    "    print(final)\n",
    "    \n",
    "    arr_max = {}\n",
    "    for i in final:\n",
    "        arr = np.array(final[i])\n",
    "        arr1 = np.delete(arr, np.where(arr == 0))\n",
    "        arr_max[i] = np.max(np.sort(arr1)[:minpts])\n",
    "    print('\\n To find the epsilon sorted points with minimum distance of minpts: \\n')\n",
    "    print(pd.DataFrame(sorted(arr_max.items(), key=lambda x: x[1] , reverse=True)))\n",
    "    \n",
    "    clustering = DBSCAN(metric='precomputed', min_samples=que_min_pts, eps=que_eps)\n",
    "    clustering.fit(dis_mat)\n",
    "    \n",
    "    print('\\n The core Points: \\n')\n",
    "    print(clustering.core_sample_indices_ + 1)\n",
    "    print('\\n The final clusters: o,s are 1 cluster, 1,s are one cluster, -1,s are noise:  \\n')\n",
    "    print(clustering.labels_)\n",
    "    print('\\n for border points compare the points with the above core and noise points')\n",
    "    return \n",
    "    "
   ]
  },
  {
   "cell_type": "code",
   "execution_count": 3,
   "metadata": {},
   "outputs": [],
   "source": [
    "#Dbscan Data\n",
    "data = [[2, 2], \n",
    "        [2, 3], \n",
    "        [2, 4], \n",
    "        [1, 3], \n",
    "        [1, 5], \n",
    "        [3, 5], \n",
    "        [4, 5], \n",
    "        [6, 3], \n",
    "        [5, 3], \n",
    "        [8, 8], \n",
    "        [7, 7], \n",
    "        [8, 7], \n",
    "        [8, 9], \n",
    "        [9, 7]]"
   ]
  },
  {
   "cell_type": "code",
   "execution_count": 4,
   "metadata": {},
   "outputs": [
    {
     "name": "stdout",
     "output_type": "stream",
     "text": [
      "The Distance Matrix: \n",
      "\n",
      "       P1    P2    P3    P4    P5   P6   P7   P8   P9   P10   P11   P12   P13  \\\n",
      "P1    0.0   1.0   2.0   2.0   4.0  4.0  5.0  5.0  4.0  12.0  10.0  11.0  13.0   \n",
      "P2    1.0   0.0   1.0   1.0   3.0  3.0  4.0  4.0  3.0  11.0   9.0  10.0  12.0   \n",
      "P3    2.0   1.0   0.0   2.0   2.0  2.0  3.0  5.0  4.0  10.0   8.0   9.0  11.0   \n",
      "P4    2.0   1.0   2.0   0.0   2.0  4.0  5.0  5.0  4.0  12.0  10.0  11.0  13.0   \n",
      "P5    4.0   3.0   2.0   2.0   0.0  2.0  3.0  7.0  6.0  10.0   8.0   9.0  11.0   \n",
      "P6    4.0   3.0   2.0   4.0   2.0  0.0  1.0  5.0  4.0   8.0   6.0   7.0   9.0   \n",
      "P7    5.0   4.0   3.0   5.0   3.0  1.0  0.0  4.0  3.0   7.0   5.0   6.0   8.0   \n",
      "P8    5.0   4.0   5.0   5.0   7.0  5.0  4.0  0.0  1.0   7.0   5.0   6.0   8.0   \n",
      "P9    4.0   3.0   4.0   4.0   6.0  4.0  3.0  1.0  0.0   8.0   6.0   7.0   9.0   \n",
      "P10  12.0  11.0  10.0  12.0  10.0  8.0  7.0  7.0  8.0   0.0   2.0   1.0   1.0   \n",
      "P11  10.0   9.0   8.0  10.0   8.0  6.0  5.0  5.0  6.0   2.0   0.0   1.0   3.0   \n",
      "P12  11.0  10.0   9.0  11.0   9.0  7.0  6.0  6.0  7.0   1.0   1.0   0.0   2.0   \n",
      "P13  13.0  12.0  11.0  13.0  11.0  9.0  8.0  8.0  9.0   1.0   3.0   2.0   0.0   \n",
      "P14  12.0  11.0  10.0  12.0  10.0  8.0  7.0  7.0  8.0   2.0   2.0   1.0   3.0   \n",
      "\n",
      "      P14  \n",
      "P1   12.0  \n",
      "P2   11.0  \n",
      "P3   10.0  \n",
      "P4   12.0  \n",
      "P5   10.0  \n",
      "P6    8.0  \n",
      "P7    7.0  \n",
      "P8    7.0  \n",
      "P9    8.0  \n",
      "P10   2.0  \n",
      "P11   2.0  \n",
      "P12   1.0  \n",
      "P13   3.0  \n",
      "P14   0.0  \n",
      "\n",
      " To find the epsilon sorted points with minimum distance of minpts: \n",
      "\n",
      "      0    1\n",
      "0    P8  4.0\n",
      "1    P7  3.0\n",
      "2    P9  3.0\n",
      "3   P13  3.0\n",
      "4    P1  2.0\n",
      "5    P3  2.0\n",
      "6    P4  2.0\n",
      "7    P5  2.0\n",
      "8    P6  2.0\n",
      "9   P10  2.0\n",
      "10  P11  2.0\n",
      "11  P14  2.0\n",
      "12   P2  1.0\n",
      "13  P12  1.0\n",
      "\n",
      " The core Points: \n",
      "\n",
      "[ 1  2  3  4  5  6 10 11 12 14]\n",
      "\n",
      " The final clusters: o,s are 1 cluster, 1,s are one cluster, -1,s are noise:  \n",
      "\n",
      "[ 0  0  0  0  0  0  0 -1 -1  1  1  1  1  1]\n",
      "\n",
      " for border points compare the points with the above core and noise points\n"
     ]
    }
   ],
   "source": [
    "# p=1 for manhattan distance\n",
    "# p=2 for Euclidean distance\n",
    "# Give the minpts 2 * d - 1\n",
    "# que_min_pts minimum points asked in the question, \n",
    "# que_eps Epsilon value given in the question\n",
    "\n",
    "dbscan(data, p=1, minpts = 3, que_min_pts = 4, que_eps = 2.1)"
   ]
  }
 ],
 "metadata": {
  "kernelspec": {
   "display_name": "Python 3",
   "language": "python",
   "name": "python3"
  },
  "language_info": {
   "codemirror_mode": {
    "name": "ipython",
    "version": 3
   },
   "file_extension": ".py",
   "mimetype": "text/x-python",
   "name": "python",
   "nbconvert_exporter": "python",
   "pygments_lexer": "ipython3",
   "version": "3.11.1"
  },
  "orig_nbformat": 4,
  "vscode": {
   "interpreter": {
    "hash": "c3de41e2802577959d4c517c88bfb57e77a94dc0aaf8cefd8147d6a3f16d28f9"
   }
  }
 },
 "nbformat": 4,
 "nbformat_minor": 2
}
