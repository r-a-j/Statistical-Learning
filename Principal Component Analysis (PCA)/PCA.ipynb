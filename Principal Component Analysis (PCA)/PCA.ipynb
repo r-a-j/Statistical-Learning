{
 "cells": [
  {
   "cell_type": "code",
   "execution_count": 9,
   "metadata": {},
   "outputs": [],
   "source": [
    "import numpy as np"
   ]
  },
  {
   "cell_type": "code",
   "execution_count": 10,
   "metadata": {},
   "outputs": [],
   "source": [
    "def PCA(mat):\n",
    "    mat1 = mat\n",
    "    m, n = mat.shape\n",
    "    \n",
    "    mean_A = mat1.mean(axis=0)\n",
    "    print('Mean values of columns \\n',mean_A)\n",
    "    \n",
    "    A_tilde = mat1 - mat1.mean(axis=0)\n",
    "    print('\\n Centered Matrix A_tilde \\n', A_tilde)\n",
    "    \n",
    "    cov_A_tilde = np.matmul(A_tilde.transpose(),A_tilde) / m\n",
    "    print('\\n covariance matrix of the centered data \\n', cov_A_tilde)\n",
    "    \n",
    "    eigen, vectors = np.linalg.eigh(cov_A_tilde)\n",
    "    eigen = np.around(eigen,3)\n",
    "    vectors = np.around(vectors,3)\n",
    "    print('\\n eigenvalues of the covariance matrix \\n', eigen)\n",
    "    print('\\n eigenvectors corresponding to the eigenvalues \\n ', vectors)\n",
    "    \n",
    "    #eigenvector matrix and transform the centered dataset with the matrix\n",
    "    d_matrix = np.matmul(A_tilde,vectors)\n",
    "    \n",
    "    print('\\n eigenvector matrix and transform the centered dataset with the matrix \\n', d_matrix)\n",
    "    \n",
    "    #Variance \n",
    "    \n",
    "    var_vals = np.around(np.var(d_matrix,axis=0),3)\n",
    "    #print(var_vals)\n",
    "    var_fun = lambda t: np.around(t/np.sum(var_vals),3)\n",
    "    Eff_arr = np.around(np.array([var_fun(xi) for xi in var_vals]),3)\n",
    "    print('\\n Variance of all dimensions \\n', var_vals)\n",
    "    print('\\n information is retained after the dimensionality reduction \\n', np.round((np.max(var_vals) / np.sum(var_vals))*100,3))"
   ]
  },
  {
   "cell_type": "code",
   "execution_count": 11,
   "metadata": {},
   "outputs": [],
   "source": [
    "a = np.matrix([[3,5,3,4,5],[1,4,2,3,5]]).transpose()"
   ]
  },
  {
   "cell_type": "code",
   "execution_count": 12,
   "metadata": {},
   "outputs": [],
   "source": [
    "b = np.matrix([[1,2,3],[2,3,4]]).transpose()"
   ]
  },
  {
   "cell_type": "code",
   "execution_count": 13,
   "metadata": {},
   "outputs": [
    {
     "name": "stdout",
     "output_type": "stream",
     "text": [
      "Mean values of columns \n",
      " [[4. 3.]]\n",
      "\n",
      " Centered Matrix A_tilde \n",
      " [[-1. -2.]\n",
      " [ 1.  1.]\n",
      " [-1. -1.]\n",
      " [ 0.  0.]\n",
      " [ 1.  2.]]\n",
      "\n",
      " covariance matrix of the centered data \n",
      " [[0.8 1.2]\n",
      " [1.2 2. ]]\n",
      "\n",
      " eigenvalues of the covariance matrix \n",
      " [0.058 2.742]\n",
      "\n",
      " eigenvectors corresponding to the eigenvalues \n",
      "  [[-0.851  0.526]\n",
      " [ 0.526  0.851]]\n",
      "\n",
      " eigenvector matrix and transform the centered dataset with the matrix \n",
      " [[-0.201 -2.228]\n",
      " [-0.325  1.377]\n",
      " [ 0.325 -1.377]\n",
      " [ 0.     0.   ]\n",
      " [ 0.201  2.228]]\n",
      "\n",
      " Variance of all dimensions \n",
      " [[0.058 2.744]]\n",
      "\n",
      " information is retained after the dimensionality reduction \n",
      " 97.93\n"
     ]
    }
   ],
   "source": [
    "PCA(a)"
   ]
  },
  {
   "cell_type": "code",
   "execution_count": 14,
   "metadata": {},
   "outputs": [
    {
     "name": "stdout",
     "output_type": "stream",
     "text": [
      "Mean values of columns \n",
      " [[2. 3.]]\n",
      "\n",
      " Centered Matrix A_tilde \n",
      " [[-1. -1.]\n",
      " [ 0.  0.]\n",
      " [ 1.  1.]]\n",
      "\n",
      " covariance matrix of the centered data \n",
      " [[0.66666667 0.66666667]\n",
      " [0.66666667 0.66666667]]\n",
      "\n",
      " eigenvalues of the covariance matrix \n",
      " [0.    1.333]\n",
      "\n",
      " eigenvectors corresponding to the eigenvalues \n",
      "  [[-0.707  0.707]\n",
      " [ 0.707  0.707]]\n",
      "\n",
      " eigenvector matrix and transform the centered dataset with the matrix \n",
      " [[ 0.    -1.414]\n",
      " [ 0.     0.   ]\n",
      " [ 0.     1.414]]\n",
      "\n",
      " Variance of all dimensions \n",
      " [[0.    1.333]]\n",
      "\n",
      " information is retained after the dimensionality reduction \n",
      " 100.0\n"
     ]
    }
   ],
   "source": [
    "PCA(b)"
   ]
  }
 ],
 "metadata": {
  "kernelspec": {
   "display_name": "Python 3",
   "language": "python",
   "name": "python3"
  },
  "language_info": {
   "codemirror_mode": {
    "name": "ipython",
    "version": 3
   },
   "file_extension": ".py",
   "mimetype": "text/x-python",
   "name": "python",
   "nbconvert_exporter": "python",
   "pygments_lexer": "ipython3",
   "version": "3.11.1"
  },
  "orig_nbformat": 4,
  "vscode": {
   "interpreter": {
    "hash": "c3de41e2802577959d4c517c88bfb57e77a94dc0aaf8cefd8147d6a3f16d28f9"
   }
  }
 },
 "nbformat": 4,
 "nbformat_minor": 2
}
